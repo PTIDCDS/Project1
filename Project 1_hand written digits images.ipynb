{
 "cells": [
  {
   "cell_type": "code",
   "execution_count": 80,
   "id": "7a34b7c7",
   "metadata": {
    "scrolled": true
   },
   "outputs": [
    {
     "name": "stdout",
     "output_type": "stream",
     "text": [
      "Requirement already satisfied: tensorflow in c:\\users\\dell5430 i7\\anaconda3\\lib\\site-packages (2.13.0)\n",
      "Requirement already satisfied: tensorflow-intel==2.13.0 in c:\\users\\dell5430 i7\\anaconda3\\lib\\site-packages (from tensorflow) (2.13.0)\n",
      "Requirement already satisfied: packaging in c:\\users\\dell5430 i7\\anaconda3\\lib\\site-packages (from tensorflow-intel==2.13.0->tensorflow) (22.0)\n",
      "Requirement already satisfied: libclang>=13.0.0 in c:\\users\\dell5430 i7\\anaconda3\\lib\\site-packages (from tensorflow-intel==2.13.0->tensorflow) (16.0.6)\n",
      "Requirement already satisfied: absl-py>=1.0.0 in c:\\users\\dell5430 i7\\anaconda3\\lib\\site-packages (from tensorflow-intel==2.13.0->tensorflow) (1.4.0)\n",
      "Requirement already satisfied: wrapt>=1.11.0 in c:\\users\\dell5430 i7\\anaconda3\\lib\\site-packages (from tensorflow-intel==2.13.0->tensorflow) (1.14.1)\n",
      "Requirement already satisfied: keras<2.14,>=2.13.1 in c:\\users\\dell5430 i7\\anaconda3\\lib\\site-packages (from tensorflow-intel==2.13.0->tensorflow) (2.13.1)\n",
      "Requirement already satisfied: astunparse>=1.6.0 in c:\\users\\dell5430 i7\\anaconda3\\lib\\site-packages (from tensorflow-intel==2.13.0->tensorflow) (1.6.3)\n",
      "Requirement already satisfied: flatbuffers>=23.1.21 in c:\\users\\dell5430 i7\\anaconda3\\lib\\site-packages (from tensorflow-intel==2.13.0->tensorflow) (23.5.26)\n",
      "Requirement already satisfied: gast<=0.4.0,>=0.2.1 in c:\\users\\dell5430 i7\\anaconda3\\lib\\site-packages (from tensorflow-intel==2.13.0->tensorflow) (0.4.0)\n",
      "Requirement already satisfied: google-pasta>=0.1.1 in c:\\users\\dell5430 i7\\anaconda3\\lib\\site-packages (from tensorflow-intel==2.13.0->tensorflow) (0.2.0)\n",
      "Requirement already satisfied: opt-einsum>=2.3.2 in c:\\users\\dell5430 i7\\anaconda3\\lib\\site-packages (from tensorflow-intel==2.13.0->tensorflow) (3.3.0)\n",
      "Requirement already satisfied: numpy<=1.24.3,>=1.22 in c:\\users\\dell5430 i7\\anaconda3\\lib\\site-packages (from tensorflow-intel==2.13.0->tensorflow) (1.23.5)\n",
      "Requirement already satisfied: tensorflow-io-gcs-filesystem>=0.23.1 in c:\\users\\dell5430 i7\\anaconda3\\lib\\site-packages (from tensorflow-intel==2.13.0->tensorflow) (0.31.0)\n",
      "Requirement already satisfied: tensorflow-estimator<2.14,>=2.13.0 in c:\\users\\dell5430 i7\\anaconda3\\lib\\site-packages (from tensorflow-intel==2.13.0->tensorflow) (2.13.0)\n",
      "Requirement already satisfied: grpcio<2.0,>=1.24.3 in c:\\users\\dell5430 i7\\anaconda3\\lib\\site-packages (from tensorflow-intel==2.13.0->tensorflow) (1.56.2)\n",
      "Requirement already satisfied: six>=1.12.0 in c:\\users\\dell5430 i7\\anaconda3\\lib\\site-packages (from tensorflow-intel==2.13.0->tensorflow) (1.16.0)\n",
      "Requirement already satisfied: tensorboard<2.14,>=2.13 in c:\\users\\dell5430 i7\\anaconda3\\lib\\site-packages (from tensorflow-intel==2.13.0->tensorflow) (2.13.0)\n",
      "Requirement already satisfied: protobuf!=4.21.0,!=4.21.1,!=4.21.2,!=4.21.3,!=4.21.4,!=4.21.5,<5.0.0dev,>=3.20.3 in c:\\users\\dell5430 i7\\anaconda3\\lib\\site-packages (from tensorflow-intel==2.13.0->tensorflow) (4.23.4)\n",
      "Requirement already satisfied: setuptools in c:\\users\\dell5430 i7\\anaconda3\\lib\\site-packages (from tensorflow-intel==2.13.0->tensorflow) (65.6.3)\n",
      "Requirement already satisfied: typing-extensions<4.6.0,>=3.6.6 in c:\\users\\dell5430 i7\\anaconda3\\lib\\site-packages (from tensorflow-intel==2.13.0->tensorflow) (4.4.0)\n",
      "Requirement already satisfied: h5py>=2.9.0 in c:\\users\\dell5430 i7\\anaconda3\\lib\\site-packages (from tensorflow-intel==2.13.0->tensorflow) (3.7.0)\n",
      "Requirement already satisfied: termcolor>=1.1.0 in c:\\users\\dell5430 i7\\anaconda3\\lib\\site-packages (from tensorflow-intel==2.13.0->tensorflow) (2.3.0)\n",
      "Requirement already satisfied: wheel<1.0,>=0.23.0 in c:\\users\\dell5430 i7\\anaconda3\\lib\\site-packages (from astunparse>=1.6.0->tensorflow-intel==2.13.0->tensorflow) (0.38.4)\n",
      "Requirement already satisfied: markdown>=2.6.8 in c:\\users\\dell5430 i7\\anaconda3\\lib\\site-packages (from tensorboard<2.14,>=2.13->tensorflow-intel==2.13.0->tensorflow) (3.4.1)\n",
      "Requirement already satisfied: werkzeug>=1.0.1 in c:\\users\\dell5430 i7\\anaconda3\\lib\\site-packages (from tensorboard<2.14,>=2.13->tensorflow-intel==2.13.0->tensorflow) (2.2.2)\n",
      "Requirement already satisfied: google-auth-oauthlib<1.1,>=0.5 in c:\\users\\dell5430 i7\\anaconda3\\lib\\site-packages (from tensorboard<2.14,>=2.13->tensorflow-intel==2.13.0->tensorflow) (1.0.0)\n",
      "Requirement already satisfied: tensorboard-data-server<0.8.0,>=0.7.0 in c:\\users\\dell5430 i7\\anaconda3\\lib\\site-packages (from tensorboard<2.14,>=2.13->tensorflow-intel==2.13.0->tensorflow) (0.7.1)\n",
      "Requirement already satisfied: google-auth<3,>=1.6.3 in c:\\users\\dell5430 i7\\anaconda3\\lib\\site-packages (from tensorboard<2.14,>=2.13->tensorflow-intel==2.13.0->tensorflow) (2.22.0)\n",
      "Requirement already satisfied: requests<3,>=2.21.0 in c:\\users\\dell5430 i7\\anaconda3\\lib\\site-packages (from tensorboard<2.14,>=2.13->tensorflow-intel==2.13.0->tensorflow) (2.31.0)\n",
      "Requirement already satisfied: urllib3<2.0 in c:\\users\\dell5430 i7\\anaconda3\\lib\\site-packages (from google-auth<3,>=1.6.3->tensorboard<2.14,>=2.13->tensorflow-intel==2.13.0->tensorflow) (1.26.14)\n",
      "Requirement already satisfied: rsa<5,>=3.1.4 in c:\\users\\dell5430 i7\\anaconda3\\lib\\site-packages (from google-auth<3,>=1.6.3->tensorboard<2.14,>=2.13->tensorflow-intel==2.13.0->tensorflow) (4.9)\n",
      "Requirement already satisfied: pyasn1-modules>=0.2.1 in c:\\users\\dell5430 i7\\anaconda3\\lib\\site-packages (from google-auth<3,>=1.6.3->tensorboard<2.14,>=2.13->tensorflow-intel==2.13.0->tensorflow) (0.2.8)\n",
      "Requirement already satisfied: cachetools<6.0,>=2.0.0 in c:\\users\\dell5430 i7\\anaconda3\\lib\\site-packages (from google-auth<3,>=1.6.3->tensorboard<2.14,>=2.13->tensorflow-intel==2.13.0->tensorflow) (5.3.1)\n",
      "Requirement already satisfied: requests-oauthlib>=0.7.0 in c:\\users\\dell5430 i7\\anaconda3\\lib\\site-packages (from google-auth-oauthlib<1.1,>=0.5->tensorboard<2.14,>=2.13->tensorflow-intel==2.13.0->tensorflow) (1.3.1)\n",
      "Requirement already satisfied: charset-normalizer<4,>=2 in c:\\users\\dell5430 i7\\anaconda3\\lib\\site-packages (from requests<3,>=2.21.0->tensorboard<2.14,>=2.13->tensorflow-intel==2.13.0->tensorflow) (2.0.4)\n",
      "Requirement already satisfied: idna<4,>=2.5 in c:\\users\\dell5430 i7\\anaconda3\\lib\\site-packages (from requests<3,>=2.21.0->tensorboard<2.14,>=2.13->tensorflow-intel==2.13.0->tensorflow) (3.4)\n",
      "Requirement already satisfied: certifi>=2017.4.17 in c:\\users\\dell5430 i7\\anaconda3\\lib\\site-packages (from requests<3,>=2.21.0->tensorboard<2.14,>=2.13->tensorflow-intel==2.13.0->tensorflow) (2023.5.7)\n",
      "Requirement already satisfied: MarkupSafe>=2.1.1 in c:\\users\\dell5430 i7\\anaconda3\\lib\\site-packages (from werkzeug>=1.0.1->tensorboard<2.14,>=2.13->tensorflow-intel==2.13.0->tensorflow) (2.1.1)\n",
      "Requirement already satisfied: pyasn1<0.5.0,>=0.4.6 in c:\\users\\dell5430 i7\\anaconda3\\lib\\site-packages (from pyasn1-modules>=0.2.1->google-auth<3,>=1.6.3->tensorboard<2.14,>=2.13->tensorflow-intel==2.13.0->tensorflow) (0.4.8)\n",
      "Requirement already satisfied: oauthlib>=3.0.0 in c:\\users\\dell5430 i7\\anaconda3\\lib\\site-packages (from requests-oauthlib>=0.7.0->google-auth-oauthlib<1.1,>=0.5->tensorboard<2.14,>=2.13->tensorflow-intel==2.13.0->tensorflow) (3.2.2)\n",
      "Note: you may need to restart the kernel to use updated packages.\n"
     ]
    }
   ],
   "source": [
    "pip install tensorflow"
   ]
  },
  {
   "cell_type": "code",
   "execution_count": 1,
   "id": "f86ec507",
   "metadata": {},
   "outputs": [],
   "source": [
    "import numpy as np\n",
    "import pandas as pd\n",
    "import matplotlib.pyplot as plt\n",
    "import tensorflow as tf\n",
    "from tensorflow.keras import layers, models\n",
    "from tensorflow import keras\n",
    "from keras.utils import to_categorical"
   ]
  },
  {
   "cell_type": "markdown",
   "id": "d23e9f05",
   "metadata": {},
   "source": [
    "### Load the data"
   ]
  },
  {
   "cell_type": "code",
   "execution_count": 2,
   "id": "ee947eb4",
   "metadata": {},
   "outputs": [],
   "source": [
    "from tensorflow.keras.datasets import mnist\n",
    "(x_train, y_train), (x_test, y_test) = mnist.load_data()"
   ]
  },
  {
   "cell_type": "markdown",
   "id": "84d008a5",
   "metadata": {},
   "source": [
    "### Normalize the data\n",
    "#### This is done to scale our training and test data between 0 and 1, done by dividing by total number of pixels in an image"
   ]
  },
  {
   "cell_type": "code",
   "execution_count": 3,
   "id": "36e33faa",
   "metadata": {},
   "outputs": [],
   "source": [
    "x_train = x_train.reshape((60000, 28, 28)).astype('float32') / 255\n",
    "x_test = x_test.reshape((10000, 28, 28)).astype('float32') / 255"
   ]
  },
  {
   "cell_type": "markdown",
   "id": "dace5e1b",
   "metadata": {},
   "source": [
    "#### This is some other method to transform our training data, since our training data uses classes as numbers, to_categorical will transform those numbers in proper vectors for using with the model.\n",
    "#### converts a class vector (integers) to binary class matrix. This is useful when we have a classification problem with more than two classes. The function takes the class vector as input and returns a binary matrix representation of the input classes."
   ]
  },
  {
   "cell_type": "code",
   "execution_count": 4,
   "id": "5cbcc127",
   "metadata": {},
   "outputs": [],
   "source": [
    "y_train = to_categorical(y_train,dtype =\"uint8\")\n",
    "y_test = to_categorical(y_test,dtype =\"uint8\")"
   ]
  },
  {
   "cell_type": "markdown",
   "id": "46641013",
   "metadata": {},
   "source": [
    "### Check the shape of the data"
   ]
  },
  {
   "cell_type": "code",
   "execution_count": 1,
   "id": "8fe5ee44",
   "metadata": {},
   "outputs": [
    {
     "ename": "NameError",
     "evalue": "name 'x_train' is not defined",
     "output_type": "error",
     "traceback": [
      "\u001b[1;31m---------------------------------------------------------------------------\u001b[0m",
      "\u001b[1;31mNameError\u001b[0m                                 Traceback (most recent call last)",
      "Cell \u001b[1;32mIn[1], line 1\u001b[0m\n\u001b[1;32m----> 1\u001b[0m \u001b[43mx_train\u001b[49m\u001b[38;5;241m.\u001b[39mshape\n",
      "\u001b[1;31mNameError\u001b[0m: name 'x_train' is not defined"
     ]
    }
   ],
   "source": [
    "x_train.shape"
   ]
  },
  {
   "cell_type": "code",
   "execution_count": 6,
   "id": "340a938d",
   "metadata": {},
   "outputs": [
    {
     "data": {
      "text/plain": [
       "(60000, 10)"
      ]
     },
     "execution_count": 6,
     "metadata": {},
     "output_type": "execute_result"
    }
   ],
   "source": [
    "y_train.shape"
   ]
  },
  {
   "cell_type": "code",
   "execution_count": 6,
   "id": "929d0014",
   "metadata": {},
   "outputs": [
    {
     "data": {
      "text/plain": [
       "(10000, 28, 28)"
      ]
     },
     "execution_count": 6,
     "metadata": {},
     "output_type": "execute_result"
    }
   ],
   "source": [
    "x_test.shape"
   ]
  },
  {
   "cell_type": "code",
   "execution_count": 40,
   "id": "85e46f22",
   "metadata": {},
   "outputs": [
    {
     "data": {
      "text/plain": [
       "(10000, 10)"
      ]
     },
     "execution_count": 40,
     "metadata": {},
     "output_type": "execute_result"
    }
   ],
   "source": [
    "y_test.shape"
   ]
  },
  {
   "cell_type": "markdown",
   "id": "d25c0505",
   "metadata": {},
   "source": [
    "## Preprocessing"
   ]
  },
  {
   "cell_type": "markdown",
   "id": "f9a5d8d5",
   "metadata": {},
   "source": [
    "### Visualization of the data"
   ]
  },
  {
   "cell_type": "code",
   "execution_count": 16,
   "id": "89570765",
   "metadata": {},
   "outputs": [
    {
     "data": {
      "text/plain": [
       "<matplotlib.image.AxesImage at 0x297f4d2e980>"
      ]
     },
     "execution_count": 16,
     "metadata": {},
     "output_type": "execute_result"
    },
    {
     "data": {
      "image/png": "[encoded data removed]",
      "text/plain": [
       "<Figure size 640x480 with 1 Axes>"
      ]
     },
     "metadata": {},
     "output_type": "display_data"
    }
   ],
   "source": [
    "plt.imshow(x_train[178],cmap=plt.get_cmap('gray'))"
   ]
  },
  {
   "cell_type": "markdown",
   "id": "c2156af1",
   "metadata": {},
   "source": [
    "### First CNN model"
   ]
  },
  {
   "cell_type": "markdown",
   "id": "de53470e",
   "metadata": {},
   "source": [
    "#### So i decided to do some reading and research so that we could have something different with everyone and we discuss.\n",
    "#### This model is of course a sequential model using Keras in tensorflow, first it flattens the data [from two dimension to one dimension 28*28]\n",
    "#### ,so it does batch normalization to each input of a layer then the output as well before an activation\n",
    "#### function is applied.\n"
   ]
  },
  {
   "cell_type": "code",
   "execution_count": 7,
   "id": "f2ec28b6",
   "metadata": {},
   "outputs": [],
   "source": [
    "model = keras.models.Sequential([\n",
    "    keras.layers.Flatten(input_shape=[28,28]),\n",
    "    keras.layers.BatchNormalization(),\n",
    "    keras.layers.Dense(300),\n",
    "    keras.layers.BatchNormalization(),\n",
    "    keras.layers.Activation(\"relu\"),\n",
    "    keras.layers.Dense(100),\n",
    "    keras.layers.BatchNormalization(),\n",
    "    keras.layers.Activation(\"relu\"),\n",
    "    keras.layers.Dense(10,activation =\"softmax\")\n",
    "])"
   ]
  },
  {
   "cell_type": "code",
   "execution_count": 8,
   "id": "fcc0c662",
   "metadata": {},
   "outputs": [
    {
     "name": "stdout",
     "output_type": "stream",
     "text": [
      "Epoch 1/30\n",
      "750/750 [==============================] - 8s 9ms/step - loss: 0.2398 - accuracy: 0.9302 - val_loss: 0.1232 - val_accuracy: 0.9628\n",
      "Epoch 2/30\n",
      "750/750 [==============================] - 7s 9ms/step - loss: 0.0994 - accuracy: 0.9695 - val_loss: 0.0919 - val_accuracy: 0.9714\n",
      "Epoch 3/30\n",
      "750/750 [==============================] - 6s 9ms/step - loss: 0.0644 - accuracy: 0.9796 - val_loss: 0.0952 - val_accuracy: 0.9734\n",
      "Epoch 4/30\n",
      "750/750 [==============================] - 7s 9ms/step - loss: 0.0458 - accuracy: 0.9862 - val_loss: 0.0829 - val_accuracy: 0.9754\n",
      "Epoch 5/30\n",
      "750/750 [==============================] - 7s 9ms/step - loss: 0.0372 - accuracy: 0.9879 - val_loss: 0.0870 - val_accuracy: 0.9753\n",
      "Epoch 6/30\n",
      "750/750 [==============================] - 7s 9ms/step - loss: 0.0320 - accuracy: 0.9898 - val_loss: 0.0852 - val_accuracy: 0.9762\n",
      "Epoch 7/30\n",
      "750/750 [==============================] - 7s 9ms/step - loss: 0.0250 - accuracy: 0.9921 - val_loss: 0.0892 - val_accuracy: 0.9762\n",
      "Epoch 8/30\n",
      "750/750 [==============================] - 6s 8ms/step - loss: 0.0235 - accuracy: 0.9923 - val_loss: 0.0941 - val_accuracy: 0.9759\n",
      "Epoch 9/30\n",
      "750/750 [==============================] - 7s 9ms/step - loss: 0.0201 - accuracy: 0.9936 - val_loss: 0.0962 - val_accuracy: 0.9760\n",
      "Epoch 10/30\n",
      "750/750 [==============================] - 6s 9ms/step - loss: 0.0171 - accuracy: 0.9946 - val_loss: 0.0911 - val_accuracy: 0.9768\n",
      "Epoch 11/30\n",
      "750/750 [==============================] - 7s 10ms/step - loss: 0.0154 - accuracy: 0.9947 - val_loss: 0.0914 - val_accuracy: 0.9762\n",
      "Epoch 12/30\n",
      "750/750 [==============================] - 7s 9ms/step - loss: 0.0166 - accuracy: 0.9946 - val_loss: 0.0996 - val_accuracy: 0.9762\n",
      "Epoch 13/30\n",
      "750/750 [==============================] - 7s 9ms/step - loss: 0.0139 - accuracy: 0.9952 - val_loss: 0.1048 - val_accuracy: 0.9762\n",
      "Epoch 14/30\n",
      "750/750 [==============================] - 7s 10ms/step - loss: 0.0133 - accuracy: 0.9955 - val_loss: 0.0995 - val_accuracy: 0.9778\n",
      "Epoch 15/30\n",
      "750/750 [==============================] - 7s 9ms/step - loss: 0.0113 - accuracy: 0.9964 - val_loss: 0.0899 - val_accuracy: 0.9780\n",
      "Epoch 16/30\n",
      "750/750 [==============================] - 7s 9ms/step - loss: 0.0099 - accuracy: 0.9967 - val_loss: 0.1012 - val_accuracy: 0.9775\n",
      "Epoch 17/30\n",
      "750/750 [==============================] - 7s 9ms/step - loss: 0.0116 - accuracy: 0.9964 - val_loss: 0.0987 - val_accuracy: 0.9792\n",
      "Epoch 18/30\n",
      "750/750 [==============================] - 7s 10ms/step - loss: 0.0097 - accuracy: 0.9967 - val_loss: 0.0938 - val_accuracy: 0.9791\n",
      "Epoch 19/30\n",
      "750/750 [==============================] - 7s 9ms/step - loss: 0.0102 - accuracy: 0.9966 - val_loss: 0.1087 - val_accuracy: 0.9774\n",
      "Epoch 20/30\n",
      "750/750 [==============================] - 7s 9ms/step - loss: 0.0090 - accuracy: 0.9972 - val_loss: 0.0990 - val_accuracy: 0.9792\n",
      "Epoch 21/30\n",
      "750/750 [==============================] - 7s 10ms/step - loss: 0.0077 - accuracy: 0.9975 - val_loss: 0.1161 - val_accuracy: 0.9762\n",
      "Epoch 22/30\n",
      "750/750 [==============================] - 6s 8ms/step - loss: 0.0103 - accuracy: 0.9966 - val_loss: 0.1060 - val_accuracy: 0.9773\n",
      "Epoch 23/30\n",
      "750/750 [==============================] - 7s 10ms/step - loss: 0.0069 - accuracy: 0.9978 - val_loss: 0.1057 - val_accuracy: 0.9784\n",
      "Epoch 24/30\n",
      "750/750 [==============================] - 6s 8ms/step - loss: 0.0068 - accuracy: 0.9977 - val_loss: 0.1210 - val_accuracy: 0.9756\n",
      "Epoch 25/30\n",
      "750/750 [==============================] - 7s 9ms/step - loss: 0.0095 - accuracy: 0.9967 - val_loss: 0.1052 - val_accuracy: 0.9797\n",
      "Epoch 26/30\n",
      "750/750 [==============================] - 7s 9ms/step - loss: 0.0066 - accuracy: 0.9979 - val_loss: 0.1105 - val_accuracy: 0.9810\n",
      "Epoch 27/30\n",
      "750/750 [==============================] - 7s 9ms/step - loss: 0.0056 - accuracy: 0.9983 - val_loss: 0.1166 - val_accuracy: 0.9790\n",
      "Epoch 28/30\n",
      "750/750 [==============================] - 7s 10ms/step - loss: 0.0076 - accuracy: 0.9975 - val_loss: 0.1032 - val_accuracy: 0.9789\n",
      "Epoch 29/30\n",
      "750/750 [==============================] - 6s 8ms/step - loss: 0.0070 - accuracy: 0.9976 - val_loss: 0.1007 - val_accuracy: 0.9803\n",
      "Epoch 30/30\n",
      "750/750 [==============================] - 7s 9ms/step - loss: 0.0047 - accuracy: 0.9985 - val_loss: 0.1075 - val_accuracy: 0.9798\n",
      "313/313 [==============================] - 1s 4ms/step - loss: 0.1098 - accuracy: 0.9803\n",
      "Test Accuracy: 98.03%\n"
     ]
    }
   ],
   "source": [
    "model.compile(optimizer='adam', loss='categorical_crossentropy', metrics=['accuracy'])\n",
    "\n",
    "# Fit the model to the training data\n",
    "model.fit(x_train, y_train, epochs=30, batch_size=64, validation_split=0.2)\n",
    "\n",
    "# Evaluate the model on the test data\n",
    "test_loss, test_accuracy = model.evaluate(x_test, y_test)\n",
    "\n",
    "# Print the accuracy\n",
    "print(f\"Test Accuracy: {test_accuracy * 100:.2f}%\")"
   ]
  },
  {
   "cell_type": "markdown",
   "id": "bf3c6fa0",
   "metadata": {},
   "source": [
    "### Second CNN model"
   ]
  },
  {
   "cell_type": "code",
   "execution_count": 1,
   "id": "f325282f",
   "metadata": {},
   "outputs": [],
   "source": [
    "from tensorflow.keras.datasets import mnist\n",
    "(x_train, y_train), (x_test, y_test) = mnist.load_data()"
   ]
  },
  {
   "cell_type": "code",
   "execution_count": 10,
   "id": "de3ebbbb",
   "metadata": {},
   "outputs": [],
   "source": [
    "# Reshape and normalize the data\n",
    "x_train = x_train.reshape((60000, 28, 28,1)).astype('float32') / 255\n",
    "x_test = x_test.reshape((10000, 28, 28,1)).astype('float32') / 255"
   ]
  },
  {
   "cell_type": "code",
   "execution_count": 11,
   "id": "50444cd3",
   "metadata": {},
   "outputs": [],
   "source": [
    "# one-hot encoding using the 'to_categorical' function\n",
    "y_train = to_categorical(y_train,dtype =\"uint8\")\n",
    "y_test = to_categorical(y_test,dtype =\"uint8\")"
   ]
  },
  {
   "cell_type": "code",
   "execution_count": 12,
   "id": "19af1096",
   "metadata": {},
   "outputs": [],
   "source": [
    "### second model initialization\n",
    "model = keras.models.Sequential()\n",
    "model.add(layers.Conv2D(32, (3, 3), activation='relu', input_shape=(28, 28,1)))\n",
    "model.add(layers.MaxPooling2D((2, 2)))\n",
    "model.add(layers.Conv2D(64, (3, 3), activation='relu'))\n",
    "model.add(layers.MaxPooling2D((2, 2)))\n",
    "model.add(layers.Conv2D(64, (3, 3), activation='relu'))\n",
    "model.add(layers.Flatten())\n",
    "model.add(layers.Dense(64, activation='relu'))\n",
    "model.add(layers.Dense(10, activation='softmax'))"
   ]
  },
  {
   "cell_type": "markdown",
   "id": "b6e2c37d",
   "metadata": {},
   "source": [
    "### Tried 'adam' optimizer and epochs = 10"
   ]
  },
  {
   "cell_type": "code",
   "execution_count": 14,
   "id": "dd66cf0d",
   "metadata": {
    "scrolled": false
   },
   "outputs": [
    {
     "name": "stdout",
     "output_type": "stream",
     "text": [
      "Epoch 1/10\n",
      "750/750 [==============================] - 31s 40ms/step - loss: 0.0066 - accuracy: 0.9977 - val_loss: 0.0432 - val_accuracy: 0.9910\n",
      "Epoch 2/10\n",
      "750/750 [==============================] - 31s 41ms/step - loss: 0.0049 - accuracy: 0.9982 - val_loss: 0.0532 - val_accuracy: 0.9902\n",
      "Epoch 3/10\n",
      "750/750 [==============================] - 31s 42ms/step - loss: 0.0055 - accuracy: 0.9982 - val_loss: 0.0578 - val_accuracy: 0.9886\n",
      "Epoch 4/10\n",
      "750/750 [==============================] - 29s 39ms/step - loss: 0.0038 - accuracy: 0.9989 - val_loss: 0.0616 - val_accuracy: 0.9884\n",
      "Epoch 5/10\n",
      "750/750 [==============================] - 36s 47ms/step - loss: 0.0063 - accuracy: 0.9977 - val_loss: 0.0545 - val_accuracy: 0.9889\n",
      "Epoch 6/10\n",
      "750/750 [==============================] - 44s 58ms/step - loss: 0.0050 - accuracy: 0.9984 - val_loss: 0.0475 - val_accuracy: 0.9912\n",
      "Epoch 7/10\n",
      "750/750 [==============================] - 41s 55ms/step - loss: 0.0043 - accuracy: 0.9986 - val_loss: 0.0578 - val_accuracy: 0.9896\n",
      "Epoch 8/10\n",
      "750/750 [==============================] - 43s 57ms/step - loss: 0.0020 - accuracy: 0.9993 - val_loss: 0.0691 - val_accuracy: 0.9877\n",
      "Epoch 9/10\n",
      "750/750 [==============================] - 42s 56ms/step - loss: 0.0055 - accuracy: 0.9981 - val_loss: 0.0642 - val_accuracy: 0.9898\n",
      "Epoch 10/10\n",
      "750/750 [==============================] - 40s 53ms/step - loss: 0.0034 - accuracy: 0.9989 - val_loss: 0.0613 - val_accuracy: 0.9904\n",
      "313/313 [==============================] - 3s 11ms/step - loss: 0.0506 - accuracy: 0.9912\n",
      "Test Accuracy: 99.12%\n"
     ]
    }
   ],
   "source": [
    "model.compile(optimizer='adam', loss='categorical_crossentropy', metrics=['accuracy'])\n",
    "\n",
    "# Fit the model to the training data\n",
    "model.fit(x_train, y_train, epochs=10, batch_size=64, validation_split=0.2)\n",
    "\n",
    "# Evaluate the model on the test data\n",
    "test_loss, test_accuracy = model.evaluate(x_test, y_test)\n",
    "\n",
    "# Print the accuracy\n",
    "print(f\"Test Accuracy: {test_accuracy * 100:.2f}%\")"
   ]
  },
  {
   "cell_type": "markdown",
   "id": "de574309",
   "metadata": {},
   "source": [
    "### Tried 'rmsprop' optimizer and epochs = 10"
   ]
  },
  {
   "cell_type": "code",
   "execution_count": 15,
   "id": "42be6c37",
   "metadata": {
    "scrolled": true
   },
   "outputs": [
    {
     "name": "stdout",
     "output_type": "stream",
     "text": [
      "Epoch 1/10\n",
      "750/750 [==============================] - 41s 54ms/step - loss: 3.2666e-04 - accuracy: 0.9999 - val_loss: 0.0649 - val_accuracy: 0.9912\n",
      "Epoch 2/10\n",
      "750/750 [==============================] - 41s 55ms/step - loss: 1.2722e-04 - accuracy: 1.0000 - val_loss: 0.0666 - val_accuracy: 0.9915\n",
      "Epoch 3/10\n",
      "750/750 [==============================] - 39s 53ms/step - loss: 1.0171e-05 - accuracy: 1.0000 - val_loss: 0.0663 - val_accuracy: 0.9919\n",
      "Epoch 4/10\n",
      "750/750 [==============================] - 40s 54ms/step - loss: 1.7530e-06 - accuracy: 1.0000 - val_loss: 0.0679 - val_accuracy: 0.9917\n",
      "Epoch 5/10\n",
      "750/750 [==============================] - 42s 56ms/step - loss: 1.1364e-06 - accuracy: 1.0000 - val_loss: 0.0689 - val_accuracy: 0.9917\n",
      "Epoch 6/10\n",
      "750/750 [==============================] - 44s 59ms/step - loss: 9.0836e-07 - accuracy: 1.0000 - val_loss: 0.0696 - val_accuracy: 0.9915\n",
      "Epoch 7/10\n",
      "750/750 [==============================] - 43s 57ms/step - loss: 7.6706e-07 - accuracy: 1.0000 - val_loss: 0.0701 - val_accuracy: 0.9917\n",
      "Epoch 8/10\n",
      "750/750 [==============================] - 44s 59ms/step - loss: 6.7915e-07 - accuracy: 1.0000 - val_loss: 0.0706 - val_accuracy: 0.9916\n",
      "Epoch 9/10\n",
      "750/750 [==============================] - 39s 53ms/step - loss: 6.1476e-07 - accuracy: 1.0000 - val_loss: 0.0711 - val_accuracy: 0.9916\n",
      "Epoch 10/10\n",
      "750/750 [==============================] - 41s 54ms/step - loss: 5.5586e-07 - accuracy: 1.0000 - val_loss: 0.0715 - val_accuracy: 0.9916\n",
      "313/313 [==============================] - 3s 10ms/step - loss: 0.0536 - accuracy: 0.9931\n",
      "Test Accuracy: 99.31%\n"
     ]
    }
   ],
   "source": [
    "model.compile(optimizer='rmsprop', loss='categorical_crossentropy', metrics=['accuracy'])\n",
    "\n",
    "# Fit the model to the training data\n",
    "model.fit(x_train, y_train, epochs=10, batch_size=64, validation_split=0.2)\n",
    "\n",
    "# Evaluate the model on the test data\n",
    "test_loss, test_accuracy = model.evaluate(x_test, y_test)\n",
    "\n",
    "# Print the accuracy\n",
    "print(f\"Test Accuracy: {test_accuracy * 100:.2f}%\")"
   ]
  },
  {
   "cell_type": "markdown",
   "id": "b511946a",
   "metadata": {},
   "source": [
    "### Tried 'adam' optimizer and epochs = 10 and batch_size = 128"
   ]
  },
  {
   "cell_type": "code",
   "execution_count": 16,
   "id": "bc9954ee",
   "metadata": {},
   "outputs": [
    {
     "name": "stdout",
     "output_type": "stream",
     "text": [
      "Epoch 1/10\n",
      "375/375 [==============================] - 18s 47ms/step - loss: 0.0027 - accuracy: 0.9993 - val_loss: 0.0756 - val_accuracy: 0.9902\n",
      "Epoch 2/10\n",
      "375/375 [==============================] - 24s 63ms/step - loss: 0.0023 - accuracy: 0.9993 - val_loss: 0.0779 - val_accuracy: 0.9905\n",
      "Epoch 3/10\n",
      "375/375 [==============================] - 36s 97ms/step - loss: 0.0012 - accuracy: 0.9996 - val_loss: 0.0974 - val_accuracy: 0.9903\n",
      "Epoch 4/10\n",
      "375/375 [==============================] - 36s 97ms/step - loss: 0.0032 - accuracy: 0.9992 - val_loss: 0.0752 - val_accuracy: 0.9908\n",
      "Epoch 5/10\n",
      "375/375 [==============================] - 36s 96ms/step - loss: 0.0014 - accuracy: 0.9996 - val_loss: 0.0824 - val_accuracy: 0.9896\n",
      "Epoch 6/10\n",
      "375/375 [==============================] - 36s 96ms/step - loss: 0.0025 - accuracy: 0.9992 - val_loss: 0.0821 - val_accuracy: 0.9898\n",
      "Epoch 7/10\n",
      "375/375 [==============================] - 37s 98ms/step - loss: 0.0013 - accuracy: 0.9996 - val_loss: 0.0736 - val_accuracy: 0.9912\n",
      "Epoch 8/10\n",
      "375/375 [==============================] - 36s 95ms/step - loss: 0.0026 - accuracy: 0.9992 - val_loss: 0.0677 - val_accuracy: 0.9917\n",
      "Epoch 9/10\n",
      "375/375 [==============================] - 43s 114ms/step - loss: 0.0016 - accuracy: 0.9995 - val_loss: 0.0795 - val_accuracy: 0.9911\n",
      "Epoch 10/10\n",
      "375/375 [==============================] - 37s 99ms/step - loss: 0.0022 - accuracy: 0.9993 - val_loss: 0.0691 - val_accuracy: 0.9908\n",
      "313/313 [==============================] - 3s 10ms/step - loss: 0.0493 - accuracy: 0.9923\n",
      "Test Accuracy: 99.23%\n"
     ]
    }
   ],
   "source": [
    "model.compile(optimizer='adam', loss='categorical_crossentropy', metrics=['accuracy'])\n",
    "\n",
    "# Fit the model to the training data\n",
    "model.fit(x_train, y_train, epochs=10, batch_size=128, validation_split=0.2)\n",
    "\n",
    "# Evaluate the model on the test data\n",
    "test_loss, test_accuracy = model.evaluate(x_test, y_test)\n",
    "\n",
    "# Print the accuracy\n",
    "print(f\"Test Accuracy: {test_accuracy * 100:.2f}%\")"
   ]
  },
  {
   "cell_type": "code",
   "execution_count": null,
   "id": "c4eac9e8",
   "metadata": {},
   "outputs": [],
   "source": [
    "from sklearn.model_selection import cross_val_score\n",
    "from sklearn import svm\n",
    "from sklearn.datasets import make_classification\n",
    "\n",
    "cross_val_scores = cross_val_score(svm_model, X,y, cv=5)\n",
    "print ('Cross validation scores:',cross_val_scores)"
   ]
  },
  {
   "cell_type": "markdown",
   "id": "c3ee4301",
   "metadata": {},
   "source": [
    "### Hyperparameter tuning for second model"
   ]
  },
  {
   "cell_type": "code",
   "execution_count": null,
   "id": "daa7f341",
   "metadata": {},
   "outputs": [],
   "source": [
    "# KerasClassifier object\n",
    "model = KerasClassifier(build_fn=create_model)\n",
    "\n",
    "# hyperparameters for optimization search\n",
    "param_grid = {'batch_size': [16, 32, 64,128],\n",
    "              'epochs': [10, 20, 30,40],\n",
    "              'optimizer': ['adam', 'rmsprop']}\n",
    "\n",
    "# Then a grid search\n",
    "grid = GridSearchCV(estimator=model, param_grid=param_grid, cv=3)\n",
    "grid_result = grid.fit(X_train, y_train)\n",
    "\n",
    "# Print out best hyperparameters\n",
    "print(f\"The best hyperparameters are: {grid_result.best_params_}\")"
   ]
  },
  {
   "cell_type": "code",
   "execution_count": null,
   "id": "bd375233",
   "metadata": {},
   "outputs": [],
   "source": []
  },
  {
   "cell_type": "code",
   "execution_count": null,
   "id": "b947772e",
   "metadata": {},
   "outputs": [],
   "source": []
  },
  {
   "cell_type": "code",
   "execution_count": null,
   "id": "07bd5c72",
   "metadata": {},
   "outputs": [],
   "source": []
  },
  {
   "cell_type": "code",
   "execution_count": null,
   "id": "db1c12e0",
   "metadata": {},
   "outputs": [],
   "source": []
  },
  {
   "cell_type": "code",
   "execution_count": null,
   "id": "79eed19c",
   "metadata": {},
   "outputs": [],
   "source": []
  },
  {
   "cell_type": "code",
   "execution_count": null,
   "id": "c38f28f8",
   "metadata": {},
   "outputs": [],
   "source": []
  },
  {
   "cell_type": "code",
   "execution_count": null,
   "id": "8d609464",
   "metadata": {},
   "outputs": [],
   "source": []
  },
  {
   "cell_type": "code",
   "execution_count": null,
   "id": "0b6068da",
   "metadata": {},
   "outputs": [],
   "source": []
  },
  {
   "cell_type": "code",
   "execution_count": null,
   "id": "283972b2",
   "metadata": {},
   "outputs": [],
   "source": []
  },
  {
   "cell_type": "code",
   "execution_count": null,
   "id": "dbbed803",
   "metadata": {},
   "outputs": [],
   "source": []
  },
  {
   "cell_type": "code",
   "execution_count": null,
   "id": "9a3486d1",
   "metadata": {},
   "outputs": [],
   "source": []
  },
  {
   "cell_type": "code",
   "execution_count": null,
   "id": "74be0583",
   "metadata": {},
   "outputs": [],
   "source": []
  },
  {
   "cell_type": "code",
   "execution_count": null,
   "id": "1b5f75e7",
   "metadata": {},
   "outputs": [],
   "source": []
  },
  {
   "cell_type": "code",
   "execution_count": null,
   "id": "fa6e2163",
   "metadata": {},
   "outputs": [],
   "source": []
  },
  {
   "cell_type": "code",
   "execution_count": null,
   "id": "9bb028d5",
   "metadata": {},
   "outputs": [],
   "source": []
  },
  {
   "cell_type": "code",
   "execution_count": null,
   "id": "bf66cc70",
   "metadata": {},
   "outputs": [],
   "source": []
  },
  {
   "cell_type": "code",
   "execution_count": null,
   "id": "7f40c333",
   "metadata": {},
   "outputs": [],
   "source": []
  },
  {
   "cell_type": "code",
   "execution_count": null,
   "id": "d2b20972",
   "metadata": {},
   "outputs": [],
   "source": []
  },
  {
   "cell_type": "code",
   "execution_count": null,
   "id": "983e0dd7",
   "metadata": {},
   "outputs": [],
   "source": []
  },
  {
   "cell_type": "code",
   "execution_count": null,
   "id": "8b910a24",
   "metadata": {},
   "outputs": [],
   "source": []
  },
  {
   "cell_type": "code",
   "execution_count": null,
   "id": "d2d3c103",
   "metadata": {},
   "outputs": [],
   "source": []
  },
  {
   "cell_type": "code",
   "execution_count": null,
   "id": "36611142",
   "metadata": {},
   "outputs": [],
   "source": []
  },
  {
   "cell_type": "code",
   "execution_count": null,
   "id": "6bfa8442",
   "metadata": {},
   "outputs": [],
   "source": []
  },
  {
   "cell_type": "code",
   "execution_count": null,
   "id": "03239fa9",
   "metadata": {},
   "outputs": [],
   "source": []
  },
  {
   "cell_type": "code",
   "execution_count": null,
   "id": "eea44395",
   "metadata": {},
   "outputs": [],
   "source": []
  },
  {
   "cell_type": "code",
   "execution_count": null,
   "id": "73908f02",
   "metadata": {},
   "outputs": [],
   "source": []
  },
  {
   "cell_type": "code",
   "execution_count": null,
   "id": "f57abb0b",
   "metadata": {},
   "outputs": [],
   "source": []
  },
  {
   "cell_type": "code",
   "execution_count": null,
   "id": "9c921e88",
   "metadata": {},
   "outputs": [],
   "source": []
  },
  {
   "cell_type": "code",
   "execution_count": null,
   "id": "9f2f2104",
   "metadata": {},
   "outputs": [],
   "source": []
  },
  {
   "cell_type": "code",
   "execution_count": null,
   "id": "ed20b0e2",
   "metadata": {},
   "outputs": [],
   "source": []
  },
  {
   "cell_type": "code",
   "execution_count": null,
   "id": "6c3cbaf3",
   "metadata": {},
   "outputs": [],
   "source": []
  },
  {
   "cell_type": "code",
   "execution_count": null,
   "id": "373c6ba3",
   "metadata": {},
   "outputs": [],
   "source": []
  },
  {
   "cell_type": "code",
   "execution_count": null,
   "id": "0745405c",
   "metadata": {},
   "outputs": [],
   "source": []
  },
  {
   "cell_type": "code",
   "execution_count": null,
   "id": "61bfc29d",
   "metadata": {},
   "outputs": [],
   "source": []
  },
  {
   "cell_type": "code",
   "execution_count": null,
   "id": "bf7b912a",
   "metadata": {},
   "outputs": [],
   "source": []
  },
  {
   "cell_type": "code",
   "execution_count": null,
   "id": "d1172c52",
   "metadata": {
    "scrolled": true
   },
   "outputs": [],
   "source": []
  },
  {
   "cell_type": "code",
   "execution_count": null,
   "id": "692a11ea",
   "metadata": {},
   "outputs": [],
   "source": []
  },
  {
   "cell_type": "code",
   "execution_count": null,
   "id": "0bc96a26",
   "metadata": {},
   "outputs": [],
   "source": []
  },
  {
   "cell_type": "code",
   "execution_count": null,
   "id": "cbae7f96",
   "metadata": {},
   "outputs": [],
   "source": []
  },
  {
   "cell_type": "code",
   "execution_count": null,
   "id": "775a4e71",
   "metadata": {},
   "outputs": [],
   "source": []
  },
  {
   "cell_type": "code",
   "execution_count": null,
   "id": "a173b28b",
   "metadata": {},
   "outputs": [],
   "source": []
  },
  {
   "cell_type": "markdown",
   "id": "5299755b",
   "metadata": {},
   "source": [
    "### Trying KNN algorithm"
   ]
  },
  {
   "cell_type": "code",
   "execution_count": 1,
   "id": "d298e416",
   "metadata": {},
   "outputs": [],
   "source": [
    "# Import necessary libraries\n",
    "from sklearn.datasets import fetch_openml\n",
    "from sklearn.model_selection import train_test_split\n",
    "from sklearn.neighbors import KNeighborsClassifier\n",
    "from sklearn import metrics"
   ]
  },
  {
   "cell_type": "code",
   "execution_count": 2,
   "id": "a39db583",
   "metadata": {},
   "outputs": [
    {
     "name": "stderr",
     "output_type": "stream",
     "text": [
      "C:\\Users\\DELL5430 i7\\anaconda3\\lib\\site-packages\\sklearn\\datasets\\_openml.py:932: FutureWarning: The default value of `parser` will change from `'liac-arff'` to `'auto'` in 1.4. You can set `parser='auto'` to silence this warning. Therefore, an `ImportError` will be raised from 1.4 if the dataset is dense and pandas is not installed. Note that the pandas parser may return different data types. See the Notes Section in fetch_openml's API doc for details.\n",
      "  warn(\n"
     ]
    }
   ],
   "source": [
    "# Load the MNIST dataset, this one is 1D however we can flatten it as above 28*28\n",
    "mnist = fetch_openml('mnist_784')\n",
    "x, y = mnist['data'], mnist['target']\n",
    "\n",
    "# Split the data into training and testing sets, made sure its 60000 -test, 10000-train for comparison purposes\n",
    "x_train, x_test, y_train, y_test = train_test_split(x, y, test_size=0.14285714, random_state=20)\n",
    "\n",
    "# Initializing the KNN classifier, let the number of k = 3 at first\n",
    "KNN_model = KNeighborsClassifier(n_neighbors=3)  \n"
   ]
  },
  {
   "cell_type": "markdown",
   "id": "2ad11902",
   "metadata": {},
   "source": [
    "### lets look at the data "
   ]
  },
  {
   "cell_type": "code",
   "execution_count": 3,
   "id": "c8c9f4e9",
   "metadata": {},
   "outputs": [
    {
     "data": {
      "text/plain": [
       "(60000, 784)"
      ]
     },
     "execution_count": 3,
     "metadata": {},
     "output_type": "execute_result"
    }
   ],
   "source": [
    "x_train.shape"
   ]
  },
  {
   "cell_type": "code",
   "execution_count": null,
   "id": "f1d8239b",
   "metadata": {},
   "outputs": [],
   "source": [
    "y_train.shape"
   ]
  },
  {
   "cell_type": "code",
   "execution_count": null,
   "id": "6b66e7bb",
   "metadata": {},
   "outputs": [],
   "source": [
    "x_test.shape"
   ]
  },
  {
   "cell_type": "code",
   "execution_count": null,
   "id": "a80b6a4d",
   "metadata": {},
   "outputs": [],
   "source": []
  },
  {
   "cell_type": "code",
   "execution_count": 5,
   "id": "3210524d",
   "metadata": {},
   "outputs": [
    {
     "data": {
      "text/html": [
       "<style>#sk-container-id-1 {color: black;background-color: white;}#sk-container-id-1 pre{padding: 0;}#sk-container-id-1 div.sk-toggleable {background-color: white;}#sk-container-id-1 label.sk-toggleable__label {cursor: pointer;display: block;width: 100%;margin-bottom: 0;padding: 0.3em;box-sizing: border-box;text-align: center;}#sk-container-id-1 label.sk-toggleable__label-arrow:before {content: \"▸\";float: left;margin-right: 0.25em;color: #696969;}#sk-container-id-1 label.sk-toggleable__label-arrow:hover:before {color: black;}#sk-container-id-1 div.sk-estimator:hover label.sk-toggleable__label-arrow:before {color: black;}#sk-container-id-1 div.sk-toggleable__content {max-height: 0;max-width: 0;overflow: hidden;text-align: left;background-color: #f0f8ff;}#sk-container-id-1 div.sk-toggleable__content pre {margin: 0.2em;color: black;border-radius: 0.25em;background-color: #f0f8ff;}#sk-container-id-1 input.sk-toggleable__control:checked~div.sk-toggleable__content {max-height: 200px;max-width: 100%;overflow: auto;}#sk-container-id-1 input.sk-toggleable__control:checked~label.sk-toggleable__label-arrow:before {content: \"▾\";}#sk-container-id-1 div.sk-estimator input.sk-toggleable__control:checked~label.sk-toggleable__label {background-color: #d4ebff;}#sk-container-id-1 div.sk-label input.sk-toggleable__control:checked~label.sk-toggleable__label {background-color: #d4ebff;}#sk-container-id-1 input.sk-hidden--visually {border: 0;clip: rect(1px 1px 1px 1px);clip: rect(1px, 1px, 1px, 1px);height: 1px;margin: -1px;overflow: hidden;padding: 0;position: absolute;width: 1px;}#sk-container-id-1 div.sk-estimator {font-family: monospace;background-color: #f0f8ff;border: 1px dotted black;border-radius: 0.25em;box-sizing: border-box;margin-bottom: 0.5em;}#sk-container-id-1 div.sk-estimator:hover {background-color: #d4ebff;}#sk-container-id-1 div.sk-parallel-item::after {content: \"\";width: 100%;border-bottom: 1px solid gray;flex-grow: 1;}#sk-container-id-1 div.sk-label:hover label.sk-toggleable__label {background-color: #d4ebff;}#sk-container-id-1 div.sk-serial::before {content: \"\";position: absolute;border-left: 1px solid gray;box-sizing: border-box;top: 0;bottom: 0;left: 50%;z-index: 0;}#sk-container-id-1 div.sk-serial {display: flex;flex-direction: column;align-items: center;background-color: white;padding-right: 0.2em;padding-left: 0.2em;position: relative;}#sk-container-id-1 div.sk-item {position: relative;z-index: 1;}#sk-container-id-1 div.sk-parallel {display: flex;align-items: stretch;justify-content: center;background-color: white;position: relative;}#sk-container-id-1 div.sk-item::before, #sk-container-id-1 div.sk-parallel-item::before {content: \"\";position: absolute;border-left: 1px solid gray;box-sizing: border-box;top: 0;bottom: 0;left: 50%;z-index: -1;}#sk-container-id-1 div.sk-parallel-item {display: flex;flex-direction: column;z-index: 1;position: relative;background-color: white;}#sk-container-id-1 div.sk-parallel-item:first-child::after {align-self: flex-end;width: 50%;}#sk-container-id-1 div.sk-parallel-item:last-child::after {align-self: flex-start;width: 50%;}#sk-container-id-1 div.sk-parallel-item:only-child::after {width: 0;}#sk-container-id-1 div.sk-dashed-wrapped {border: 1px dashed gray;margin: 0 0.4em 0.5em 0.4em;box-sizing: border-box;padding-bottom: 0.4em;background-color: white;}#sk-container-id-1 div.sk-label label {font-family: monospace;font-weight: bold;display: inline-block;line-height: 1.2em;}#sk-container-id-1 div.sk-label-container {text-align: center;}#sk-container-id-1 div.sk-container {/* jupyter's `normalize.less` sets `[hidden] { display: none; }` but bootstrap.min.css set `[hidden] { display: none !important; }` so we also need the `!important` here to be able to override the default hidden behavior on the sphinx rendered scikit-learn.org. See: https://github.com/scikit-learn/scikit-learn/issues/21755 */display: inline-block !important;position: relative;}#sk-container-id-1 div.sk-text-repr-fallback {display: none;}</style><div id=\"sk-container-id-1\" class=\"sk-top-container\"><div class=\"sk-text-repr-fallback\"><pre>KNeighborsClassifier(n_neighbors=3)</pre><b>In a Jupyter environment, please rerun this cell to show the HTML representation or trust the notebook. <br />On GitHub, the HTML representation is unable to render, please try loading this page with nbviewer.org.</b></div><div class=\"sk-container\" hidden><div class=\"sk-item\"><div class=\"sk-estimator sk-toggleable\"><input class=\"sk-toggleable__control sk-hidden--visually\" id=\"sk-estimator-id-1\" type=\"checkbox\" checked><label for=\"sk-estimator-id-1\" class=\"sk-toggleable__label sk-toggleable__label-arrow\">KNeighborsClassifier</label><div class=\"sk-toggleable__content\"><pre>KNeighborsClassifier(n_neighbors=3)</pre></div></div></div></div></div>"
      ],
      "text/plain": [
       "KNeighborsClassifier(n_neighbors=3)"
      ]
     },
     "execution_count": 5,
     "metadata": {},
     "output_type": "execute_result"
    }
   ],
   "source": [
    "# Train the classifier\n",
    "KNN_model.fit(x_train, y_train)"
   ]
  },
  {
   "cell_type": "code",
   "execution_count": 6,
   "id": "86c939a9",
   "metadata": {},
   "outputs": [],
   "source": [
    "# Make predictions on the test set\n",
    "y_pred = KNN_model.predict(x_test)"
   ]
  },
  {
   "cell_type": "code",
   "execution_count": 7,
   "id": "b78f3395",
   "metadata": {},
   "outputs": [
    {
     "name": "stdout",
     "output_type": "stream",
     "text": [
      "Accuracy: 0.9741\n"
     ]
    }
   ],
   "source": [
    "# Evaluate the accuracy\n",
    "accuracy = metrics.accuracy_score(y_test, y_pred)\n",
    "print(f'Accuracy: {accuracy}')"
   ]
  },
  {
   "cell_type": "code",
   "execution_count": 8,
   "id": "8fb9843f",
   "metadata": {},
   "outputs": [
    {
     "name": "stdout",
     "output_type": "stream",
     "text": [
      "[[ 971    1    1    0    0    3    4    1    2    0]\n",
      " [   0 1141    0    1    0    0    0    1    0    0]\n",
      " [   4    7  989    2    0    1    1   14    0    0]\n",
      " [   2    3    9 1025    0    7    0    3    5    2]\n",
      " [   0   10    2    0  907    0    3    2    0   16]\n",
      " [   2    1    1    8    0  860   12    0    0    3]\n",
      " [   2    1    0    0    2    3 1004    0    0    0]\n",
      " [   1   10    4    0    0    0    0 1016    0   10]\n",
      " [   1    8    3   18    4   11    5    1  903   14]\n",
      " [   0    0    1    7   10    0    1    8    0  925]]\n",
      "              precision    recall  f1-score   support\n",
      "\n",
      "           0       0.99      0.99      0.99       983\n",
      "           1       0.97      1.00      0.98      1143\n",
      "           2       0.98      0.97      0.98      1018\n",
      "           3       0.97      0.97      0.97      1056\n",
      "           4       0.98      0.96      0.97       940\n",
      "           5       0.97      0.97      0.97       887\n",
      "           6       0.97      0.99      0.98      1012\n",
      "           7       0.97      0.98      0.97      1041\n",
      "           8       0.99      0.93      0.96       968\n",
      "           9       0.95      0.97      0.96       952\n",
      "\n",
      "    accuracy                           0.97     10000\n",
      "   macro avg       0.97      0.97      0.97     10000\n",
      "weighted avg       0.97      0.97      0.97     10000\n",
      "\n"
     ]
    }
   ],
   "source": [
    "# You can also print other metrics like confusion matrix, classification report, etc.\n",
    "print(metrics.confusion_matrix(y_test, y_pred))\n",
    "print(metrics.classification_report(y_test, y_pred))"
   ]
  },
  {
   "cell_type": "markdown",
   "id": "08985325",
   "metadata": {},
   "source": [
    "### try some cross validation and determine the best K value"
   ]
  },
  {
   "cell_type": "code",
   "execution_count": 36,
   "id": "afd29248",
   "metadata": {
    "scrolled": true
   },
   "outputs": [
    {
     "data": {
      "text/plain": [
       "[0.02557142857142857,\n",
       " 0.033857142857142856,\n",
       " 0.028142857142857143,\n",
       " 0.028714285714285713,\n",
       " 0.02957142857142857,\n",
       " 0.03,\n",
       " 0.03014285714285714,\n",
       " 0.030857142857142857,\n",
       " 0.030714285714285715,\n",
       " 0.032]"
      ]
     },
     "execution_count": 36,
     "metadata": {},
     "output_type": "execute_result"
    }
   ],
   "source": [
    "# import KNN algorithm\n",
    "from sklearn.neighbors import KNeighborsClassifier\n",
    "# create empty list to store error values\n",
    "error_rate=[]\n",
    "\n",
    "for i in range(1,11):\n",
    "    KNN_model=KNeighborsClassifier(n_neighbors=i)\n",
    "    KNN_model.fit(x_train,y_train)\n",
    "    y_pred=KNN_model.predict(x_test)\n",
    "    error_rate.append(np.mean(y_pred!=y_test))\n",
    "error_rate"
   ]
  },
  {
   "cell_type": "code",
   "execution_count": 3,
   "id": "7d8640f0",
   "metadata": {},
   "outputs": [
    {
     "name": "stdout",
     "output_type": "stream",
     "text": [
      "Best k value: 3\n"
     ]
    },
    {
     "data": {
      "image/png": "[encoded data removed]",
      "text/plain": [
       "<Figure size 640x480 with 1 Axes>"
      ]
     },
     "metadata": {},
     "output_type": "display_data"
    }
   ],
   "source": [
    "from sklearn.model_selection import cross_val_score\n",
    "\n",
    "# Define a range of k values to try\n",
    "k_values = list(range(1, 11))  # You can adjust the range based on your preference\n",
    "\n",
    "# Initialize an empty list to store cross-validation scores\n",
    "cv_scores = []\n",
    "\n",
    "# Perform k-fold cross-validation for each k\n",
    "for k in k_values:\n",
    "    KNN_model = KNeighborsClassifier(n_neighbors=k)\n",
    "    scores = cross_val_score(KNN_model, x_train, y_train, cv=5, scoring='accuracy')  \n",
    "    cv_scores.append(scores.mean())\n",
    "\n",
    "# Find the k value with the highest cross-validation score\n",
    "best_k = k_values[cv_scores.index(max(cv_scores))]\n",
    "\n",
    "print(f'Best k value: {best_k}')\n",
    "\n",
    "# Plot the cross-validation scores for different k values\n",
    "import matplotlib.pyplot as plt\n",
    "\n",
    "plt.plot(k_values, cv_scores)\n",
    "plt.xlabel('Number of Neighbors (k)')\n",
    "plt.ylabel('Cross-Validation Accuracy')\n",
    "plt.title('KNN Model Selection')\n",
    "plt.show()\n"
   ]
  },
  {
   "cell_type": "code",
   "execution_count": 9,
   "id": "406f29a0",
   "metadata": {},
   "outputs": [],
   "source": [
    "# Make predictions on the test set\n",
    "y_pred = KNN_model.predict(x_test)"
   ]
  },
  {
   "cell_type": "code",
   "execution_count": 12,
   "id": "db239779",
   "metadata": {},
   "outputs": [
    {
     "name": "stdout",
     "output_type": "stream",
     "text": [
      "Accuracy: 0.97\n",
      "Classification Report:\n",
      "               precision    recall  f1-score   support\n",
      "\n",
      "           0       0.99      0.99      0.99       983\n",
      "           1       0.97      1.00      0.98      1143\n",
      "           2       0.98      0.97      0.98      1018\n",
      "           3       0.97      0.97      0.97      1056\n",
      "           4       0.98      0.96      0.97       940\n",
      "           5       0.97      0.97      0.97       887\n",
      "           6       0.97      0.99      0.98      1012\n",
      "           7       0.97      0.98      0.97      1041\n",
      "           8       0.99      0.93      0.96       968\n",
      "           9       0.95      0.97      0.96       952\n",
      "\n",
      "    accuracy                           0.97     10000\n",
      "   macro avg       0.97      0.97      0.97     10000\n",
      "weighted avg       0.97      0.97      0.97     10000\n",
      "\n"
     ]
    }
   ],
   "source": [
    "# Evaluate accuracy\n",
    "accuracy = metrics.accuracy_score(y_test, y_pred)\n",
    "print(f\"Accuracy: {accuracy:.2f}\")\n",
    "\n",
    "# Classification report\n",
    "print(\"Classification Report:\\n\", metrics.classification_report(y_test, y_pred))"
   ]
  },
  {
   "cell_type": "code",
   "execution_count": null,
   "id": "3637c52d",
   "metadata": {},
   "outputs": [],
   "source": []
  },
  {
   "cell_type": "code",
   "execution_count": null,
   "id": "0346034e",
   "metadata": {},
   "outputs": [],
   "source": []
  },
  {
   "cell_type": "code",
   "execution_count": null,
   "id": "b5372ebf",
   "metadata": {},
   "outputs": [],
   "source": []
  },
  {
   "cell_type": "markdown",
   "id": "fb38ed88",
   "metadata": {},
   "source": [
    "### Support vector machine"
   ]
  },
  {
   "cell_type": "code",
   "execution_count": 13,
   "id": "e320cbf8",
   "metadata": {},
   "outputs": [
    {
     "name": "stderr",
     "output_type": "stream",
     "text": [
      "C:\\Users\\DELL5430 i7\\anaconda3\\lib\\site-packages\\sklearn\\datasets\\_openml.py:932: FutureWarning: The default value of `parser` will change from `'liac-arff'` to `'auto'` in 1.4. You can set `parser='auto'` to silence this warning. Therefore, an `ImportError` will be raised from 1.4 if the dataset is dense and pandas is not installed. Note that the pandas parser may return different data types. See the Notes Section in fetch_openml's API doc for details.\n",
      "  warn(\n"
     ]
    }
   ],
   "source": [
    "# Import all the necessary libraries\n",
    "from sklearn.datasets import fetch_openml\n",
    "from sklearn.model_selection import train_test_split\n",
    "from sklearn import metrics\n",
    "from sklearn.preprocessing import StandardScaler\n",
    "from sklearn.svm import SVC\n",
    "from sklearn import metrics\n",
    "\n",
    "# Load the MNIST dataset, this one is already flattened and its available,however you can do it yourself\n",
    "mnist = fetch_openml('mnist_784')\n",
    "x, y = mnist['data'], mnist['target']\n",
    "\n",
    "# Split the data into training and testing sets\n",
    "x_train, x_test, y_train, y_test = train_test_split(x, y, test_size=0.14285714, random_state=20)\n"
   ]
  },
  {
   "cell_type": "code",
   "execution_count": 4,
   "id": "cd983463",
   "metadata": {},
   "outputs": [
    {
     "name": "stdout",
     "output_type": "stream",
     "text": [
      "Accuracy: 0.9281\n",
      "[[ 956    0    6    2    1    6    7    1    2    2]\n",
      " [   0 1122    6    3    1    2    0    2    7    0]\n",
      " [   9   17  930   16    3    2   18    6   15    2]\n",
      " [   6    5   30  961    1   17    1    7   18   10]\n",
      " [   6    5   11    2  885    1    5    2    2   21]\n",
      " [  11    4    6   31    7  795   11    3   14    5]\n",
      " [  10    3   14    0   11   10  963    1    0    0]\n",
      " [   1    7   16    6   18    2    0  967    2   22]\n",
      " [   6   12   19   35    3   22    6    5  855    5]\n",
      " [   3    1    6   14   34    6    1   34    6  847]]\n",
      "              precision    recall  f1-score   support\n",
      "\n",
      "           0       0.95      0.97      0.96       983\n",
      "           1       0.95      0.98      0.97      1143\n",
      "           2       0.89      0.91      0.90      1018\n",
      "           3       0.90      0.91      0.90      1056\n",
      "           4       0.92      0.94      0.93       940\n",
      "           5       0.92      0.90      0.91       887\n",
      "           6       0.95      0.95      0.95      1012\n",
      "           7       0.94      0.93      0.93      1041\n",
      "           8       0.93      0.88      0.91       968\n",
      "           9       0.93      0.89      0.91       952\n",
      "\n",
      "    accuracy                           0.93     10000\n",
      "   macro avg       0.93      0.93      0.93     10000\n",
      "weighted avg       0.93      0.93      0.93     10000\n",
      "\n"
     ]
    }
   ],
   "source": [
    "scaler = StandardScaler()\n",
    "x_train_std = scaler.fit_transform(x_train)\n",
    "x_test_std = scaler.transform(x_test)\n",
    "\n",
    "# Initialize the SVM classifier\n",
    "svm_model = SVC(kernel='linear', C=1.0, random_state=42)\n",
    "\n",
    "# Train the classifier\n",
    "svm_model.fit(x_train_std, y_train)\n",
    "\n",
    "# Make predictions on the test set\n",
    "y_pred = svm_model.predict(x_test_std)\n",
    "\n",
    "# Evaluate the performance of the model\n",
    "accuracy = metrics.accuracy_score(y_test, y_pred)\n",
    "print(f'Accuracy: {accuracy}')\n",
    "\n",
    "# You can also print other metrics like confusion matrix, classification report, etc.\n",
    "print(metrics.confusion_matrix(y_test, y_pred))\n",
    "print(metrics.classification_report(y_test, y_pred))"
   ]
  },
  {
   "cell_type": "code",
   "execution_count": 14,
   "id": "b1f0a51e",
   "metadata": {},
   "outputs": [
    {
     "name": "stdout",
     "output_type": "stream",
     "text": [
      "Accuracy: 0.9672\n",
      "[[ 966    0    3    2    0    4    4    1    3    0]\n",
      " [   0 1122    6    2    2    0    1    5    3    2]\n",
      " [   1    1  983   10    2    1    3   13    3    1]\n",
      " [   0    1   11 1012    2    6    1   16    5    2]\n",
      " [   0    1   11    0  910    0    2    8    0    8]\n",
      " [   3    0    2    8    2  850    7    9    4    2]\n",
      " [   1    0    4    1    3    4  995    4    0    0]\n",
      " [   1    4    9    0    5    0    0 1012    0   10]\n",
      " [   0    2    5    7    1    9    3    8  928    5]\n",
      " [   1    1    5    8   14    1    0   23    5  894]]\n",
      "              precision    recall  f1-score   support\n",
      "\n",
      "           0       0.99      0.98      0.99       983\n",
      "           1       0.99      0.98      0.99      1143\n",
      "           2       0.95      0.97      0.96      1018\n",
      "           3       0.96      0.96      0.96      1056\n",
      "           4       0.97      0.97      0.97       940\n",
      "           5       0.97      0.96      0.96       887\n",
      "           6       0.98      0.98      0.98      1012\n",
      "           7       0.92      0.97      0.95      1041\n",
      "           8       0.98      0.96      0.97       968\n",
      "           9       0.97      0.94      0.95       952\n",
      "\n",
      "    accuracy                           0.97     10000\n",
      "   macro avg       0.97      0.97      0.97     10000\n",
      "weighted avg       0.97      0.97      0.97     10000\n",
      "\n"
     ]
    }
   ],
   "source": [
    "scaler = StandardScaler()\n",
    "x_train_std = scaler.fit_transform(x_train)\n",
    "x_test_std = scaler.transform(x_test)\n",
    "\n",
    "# Initialize the SVM classifier\n",
    "svm_model = SVC(kernel='rbf', C=1.0, random_state=42)\n",
    "\n",
    "# Train the classifier\n",
    "svm_model.fit(x_train_std, y_train)\n",
    "\n",
    "# Make predictions on the test set\n",
    "y_pred = svm_model.predict(x_test_std)\n",
    "\n",
    "# Evaluate the performance of the model\n",
    "accuracy = metrics.accuracy_score(y_test, y_pred)\n",
    "print(f'Accuracy: {accuracy}')\n",
    "\n",
    "# You can also print other metrics like confusion matrix, classification report, etc.\n",
    "print(metrics.confusion_matrix(y_test, y_pred))\n",
    "print(metrics.classification_report(y_test, y_pred))"
   ]
  },
  {
   "cell_type": "code",
   "execution_count": null,
   "id": "bb13a854",
   "metadata": {},
   "outputs": [],
   "source": []
  },
  {
   "cell_type": "code",
   "execution_count": null,
   "id": "2a455241",
   "metadata": {},
   "outputs": [],
   "source": []
  },
  {
   "cell_type": "code",
   "execution_count": null,
   "id": "8b532669",
   "metadata": {},
   "outputs": [],
   "source": []
  },
  {
   "cell_type": "code",
   "execution_count": null,
   "id": "09c01de1",
   "metadata": {},
   "outputs": [],
   "source": []
  },
  {
   "cell_type": "code",
   "execution_count": null,
   "id": "e87dc9e6",
   "metadata": {},
   "outputs": [],
   "source": []
  },
  {
   "cell_type": "code",
   "execution_count": null,
   "id": "511ca760",
   "metadata": {},
   "outputs": [],
   "source": []
  },
  {
   "cell_type": "code",
   "execution_count": null,
   "id": "c1f3570b",
   "metadata": {},
   "outputs": [],
   "source": []
  },
  {
   "cell_type": "code",
   "execution_count": null,
   "id": "d5435eca",
   "metadata": {},
   "outputs": [],
   "source": []
  },
  {
   "cell_type": "code",
   "execution_count": null,
   "id": "c6de3b6f",
   "metadata": {},
   "outputs": [],
   "source": []
  },
  {
   "cell_type": "code",
   "execution_count": null,
   "id": "7f7b73a5",
   "metadata": {},
   "outputs": [],
   "source": []
  }
 ],
 "metadata": {
  "kernelspec": {
   "display_name": "Python 3 (ipykernel)",
   "language": "python",
   "name": "python3"
  },
  "language_info": {
   "codemirror_mode": {
    "name": "ipython",
    "version": 3
   },
   "file_extension": ".py",
   "mimetype": "text/x-python",
   "name": "python",
   "nbconvert_exporter": "python",
   "pygments_lexer": "ipython3",
   "version": "3.10.9"
  }
 },
 "nbformat": 4,
 "nbformat_minor": 5
}
